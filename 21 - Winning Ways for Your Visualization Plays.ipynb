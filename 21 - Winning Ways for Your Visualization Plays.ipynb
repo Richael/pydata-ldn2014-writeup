{
 "metadata": {
  "name": ""
 },
 "nbformat": 3,
 "nbformat_minor": 0,
 "worksheets": [
  {
   "cells": [
    {
     "cell_type": "code",
     "collapsed": false,
     "input": [
      "%autosave 10"
     ],
     "language": "python",
     "metadata": {},
     "outputs": [
      {
       "javascript": [
        "IPython.notebook.set_autosave_interval(10000)"
       ],
       "metadata": {},
       "output_type": "display_data"
      },
      {
       "output_type": "stream",
       "stream": "stdout",
       "text": [
        "Autosaving every 10 seconds\n"
       ]
      }
     ],
     "prompt_number": 1
    },
    {
     "cell_type": "markdown",
     "metadata": {},
     "source": [
      "http://www.functionalelegance.com\n",
      "\n",
      "## History\n",
      "\n",
      "- John Snow's cholera investigation; plot dots on a map\n",
      "\n",
      "## \"Hockey stick\" chart\n",
      "\n",
      "- Famous climate change temperature change chart; controversial\n",
      "    - All down to the axis scale!\n",
      "    - Such a simple choice is a frame; we choose to present a bias, honestly or not.\n",
      "\n",
      "## Aspect ratio\n",
      "\n",
      "- Another simple question! How do you choose it?\n",
      "- 1:1 - fair?\n",
      "- 3:2 - landscape?\n",
      "- golden ratio - beautiful?\n",
      "- average slope 45 degrees - perceptually optimal for orientation discrimination.\n",
      "    - easiest angle to see deviations in trend (rather than horizontal / vertical)\n",
      "- but graphic designers know - all choices depend on what story you want to tell\n",
      "    - choices inevitably affect this.\n",
      "\n",
      "##\u00a0Map projections\n",
      "\n",
      "- Mercator - preserve angles, not areas.\n",
      "    - used for shipping / navigation\n",
      "- Choices are frames. You understand \"3D projections onto 2D are necessarily imperfect\", but ordinary people just blindly accept the frame.\n",
      "- Robinson - almost preserve area, not angle\n",
      "- But why not plot, scaling for GDP and population, not area? Surely more informative.\n",
      "\n",
      "## Choices\n",
      "\n",
      "- Representing numeric values without misleading users - our goal.\n",
      "- Difficult to judge area of quadrangles\n",
      "    - Yet we use quadrangular heat maps!\n",
      "- **Ebbinghaus Illusion**: very difficult to perceive areas of circles based on context\n",
      "    - But we use bubble charts!\n",
      "- Even if you use numeric labels, it's too late. Your users have made judgements visually.\n",
      "- Can't distinguish colours if they're next to other colours\n",
      "    - Yet we use heat maps!\n",
      "\n",
      "## Context\n",
      "\n",
      "- Add context!\n",
      "    - Textual callouts\n",
      "    - Don't use many colour graduations, few\n",
      "    - Different charts on same page for different views - allows different perspectives, robust.\n",
      "- The more people are paid, the less able they are to read charts.\n",
      "- Use familiar idioms\n",
      "    - Next to a vertical bar chart, add traffic lights! Green is up, red is down, yellow is OK.\n",
      "- \"Familiar visual metaphors make interpretation easier\"\n",
      "\n",
      "## Colour gradients\n",
      "\n",
      "- Don't use rainbow palettes for continuous numeric values.\n",
      "- We always see edges between hues (turns categorical).\n",
      "- Yellow stands out too much\n",
      "    - Use iso-luminate palette, yellow turns brown.\n",
      "- Brain can distinguish brightness much better than hue.\n",
      "\n",
      "## Transparency layering\n",
      "\n",
      "- !!AI see presenter's website for info; different ways of mixing layers.\n",
      "\n",
      "## Sphere of Influence graphs\n",
      "\n",
      "http://demonstrations.wolfram.com/SphereOfInfluenceGraphs/\n",
      "\n",
      "## Graphs\n",
      "\n",
      "http://visualization.geblogs.com/visualization/network/\n",
      "\n",
      "## Summary\n",
      "\n",
      "- Since framing is inevitable, start with the user and their context and objecives.\n",
      "\n",
      "## Questions\n",
      "\n",
      "- Given interaction *or* offer multiple simultaneous views, which to do?\n",
      "    - Interaction always wins.\n",
      "    - Multiple charts will often leave users confused."
     ]
    }
   ],
   "metadata": {}
  }
 ]
}