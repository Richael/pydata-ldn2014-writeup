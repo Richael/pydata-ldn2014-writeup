{
 "metadata": {
  "name": ""
 },
 "nbformat": 3,
 "nbformat_minor": 0,
 "worksheets": [
  {
   "cells": [
    {
     "cell_type": "code",
     "collapsed": false,
     "input": [
      "%autosave 10"
     ],
     "language": "python",
     "metadata": {},
     "outputs": [
      {
       "javascript": [
        "IPython.notebook.set_autosave_interval(10000)"
       ],
       "metadata": {},
       "output_type": "display_data"
      },
      {
       "output_type": "stream",
       "stream": "stdout",
       "text": [
        "Autosaving every 10 seconds\n"
       ]
      }
     ],
     "prompt_number": 1
    },
    {
     "cell_type": "markdown",
     "metadata": {},
     "source": [
      "Look inside the `optimizing` subfolder of this folder.\n",
      "\n",
      "Also there's a massive 80 page handout. Handout contains the bulk of material for this tutorial, so run through \n",
      "\n",
      "He didn't get past profiling, so look at the handout and type it all up into this IPython Notebook. Make it comprehensive."
     ]
    },
    {
     "cell_type": "markdown",
     "metadata": {},
     "source": [
      "## How fast is fast enough?\n",
      "\n",
      "- Make sure it's slow. If so, does it matter if it's slow?\n",
      "- Why is it slow?\n",
      "- Don't optimize until you know you need it to be faster.\n",
      "- Focus on use cases and user experience.\n",
      "- Profile.\n",
      "- Maintain unit tests and run them as you optimize.\n",
      "\n",
      "Usually improving big-O of algorithms and data structures is the best first step.\n",
      "\n",
      "Hardware is cheaper than programmer time."
     ]
    },
    {
     "cell_type": "markdown",
     "metadata": {},
     "source": [
      "## Benchmark your Python interpreter"
     ]
    },
    {
     "cell_type": "code",
     "collapsed": false,
     "input": [
      "import test.pystone\n",
      "test.pystone.main()"
     ],
     "language": "python",
     "metadata": {},
     "outputs": [
      {
       "output_type": "stream",
       "stream": "stdout",
       "text": [
        "Pystone(1.1) time for 50000 passes = 0.883939\n",
        "This machine benchmarks at 56565 pystones/second\n"
       ]
      }
     ],
     "prompt_number": 4
    },
    {
     "cell_type": "markdown",
     "metadata": {},
     "source": [
      "- IronPython is faster than CPython\n",
      "- PyPy is *significantly* faster than IronPython and PyPy."
     ]
    },
    {
     "cell_type": "markdown",
     "metadata": {},
     "source": [
      "## Profiling CPU usage\n",
      "\n",
      "- cProfile (recommended)\n",
      "- profile (pure Python, not recommended)\n",
      "- hotshot (deprecated)\n",
      "\n",
      "But these all will affect performance of your program as you run them.\n",
      "\n",
      "Below are many ways of running cProfiler."
     ]
    },
    {
     "cell_type": "code",
     "collapsed": false,
     "input": [
      "%load optimizing/measuring/profile_me.py"
     ],
     "language": "python",
     "metadata": {},
     "outputs": [],
     "prompt_number": 12
    },
    {
     "cell_type": "markdown",
     "metadata": {},
     "source": [
      "the `%%prun` magic incantation shows output in the bottom pane of your IPython Notebook."
     ]
    },
    {
     "cell_type": "code",
     "collapsed": false,
     "input": [
      "%%prun\n",
      "# file profile_me.py\n",
      "\n",
      "\"\"\"Example to be profiled.\n",
      "\"\"\"\n",
      "\n",
      "import time\n",
      "\n",
      "\n",
      "def fast():\n",
      "    \"\"\"Wait 0.001 seconds.\n",
      "    \"\"\"\n",
      "    time.sleep(1e-3)\n",
      "\n",
      "\n",
      "def slow():\n",
      "    \"\"\"Wait 0.1 seconds.\n",
      "    \"\"\"\n",
      "    time.sleep(0.1)\n",
      "\n",
      "\n",
      "def use_fast():\n",
      "    \"\"\"Call `fast` 100 times.\n",
      "    \"\"\"\n",
      "    for _ in xrange(100):\n",
      "        fast()\n",
      "\n",
      "\n",
      "def use_slow():\n",
      "    \"\"\"Call `slow` 100 times.\n",
      "    \"\"\"\n",
      "    for _ in xrange(100):\n",
      "        slow()\n",
      "\n",
      "\n",
      "if __name__ == '__main__':\n",
      "    use_fast()\n",
      "    use_slow()\n"
     ],
     "language": "python",
     "metadata": {},
     "outputs": [
      {
       "output_type": "stream",
       "stream": "stdout",
       "text": [
        "\n"
       ]
      }
     ],
     "prompt_number": 13
    },
    {
     "cell_type": "code",
     "collapsed": false,
     "input": [
      "%timeit slow()"
     ],
     "language": "python",
     "metadata": {},
     "outputs": [
      {
       "output_type": "stream",
       "stream": "stdout",
       "text": [
        "10 loops, best of 3: 100 ms per loop\n"
       ]
      }
     ],
     "prompt_number": 23
    },
    {
     "cell_type": "code",
     "collapsed": false,
     "input": [
      "%timeit fast()"
     ],
     "language": "python",
     "metadata": {},
     "outputs": [
      {
       "output_type": "stream",
       "stream": "stdout",
       "text": [
        "1000 loops, best of 3: 1.15 ms per loop\n"
       ]
      }
     ],
     "prompt_number": 24
    },
    {
     "cell_type": "code",
     "collapsed": false,
     "input": [
      "import cProfile"
     ],
     "language": "python",
     "metadata": {},
     "outputs": [],
     "prompt_number": 20
    },
    {
     "cell_type": "code",
     "collapsed": false,
     "input": [
      "cProfile.runctx(\"slow()\", globals(), locals())"
     ],
     "language": "python",
     "metadata": {},
     "outputs": [
      {
       "output_type": "stream",
       "stream": "stdout",
       "text": [
        "         4 function calls in 0.100 seconds\n",
        "\n",
        "   Ordered by: standard name\n",
        "\n",
        "   ncalls  tottime  percall  cumtime  percall filename:lineno(function)\n",
        "        1    0.000    0.000    0.100    0.100 <string>:1(<module>)\n",
        "        1    0.000    0.000    0.100    0.100 <string>:16(slow)\n",
        "        1    0.000    0.000    0.000    0.000 {method 'disable' of '_lsprof.Profiler' objects}\n",
        "        1    0.100    0.100    0.100    0.100 {time.sleep}\n",
        "\n",
        "\n"
       ]
      }
     ],
     "prompt_number": 21
    },
    {
     "cell_type": "code",
     "collapsed": false,
     "input": [
      "cProfile.run(\"slow()\")"
     ],
     "language": "python",
     "metadata": {},
     "outputs": [
      {
       "output_type": "stream",
       "stream": "stdout",
       "text": [
        "         4 function calls in 0.101 seconds\n",
        "\n",
        "   Ordered by: standard name\n",
        "\n",
        "   ncalls  tottime  percall  cumtime  percall filename:lineno(function)\n",
        "        1    0.000    0.000    0.101    0.101 <string>:1(<module>)\n",
        "        1    0.000    0.000    0.101    0.101 <string>:16(slow)\n",
        "        1    0.000    0.000    0.000    0.000 {method 'disable' of '_lsprof.Profiler' objects}\n",
        "        1    0.101    0.101    0.101    0.101 {time.sleep}\n",
        "\n",
        "\n"
       ]
      }
     ],
     "prompt_number": 36
    },
    {
     "cell_type": "code",
     "collapsed": false,
     "input": [
      "cProfile.runctx(\"fast()\", globals(), locals())"
     ],
     "language": "python",
     "metadata": {},
     "outputs": [
      {
       "output_type": "stream",
       "stream": "stdout",
       "text": [
        "         4 function calls in 0.001 seconds\n",
        "\n",
        "   Ordered by: standard name\n",
        "\n",
        "   ncalls  tottime  percall  cumtime  percall filename:lineno(function)\n",
        "        1    0.000    0.000    0.001    0.001 <string>:1(<module>)\n",
        "        1    0.000    0.000    0.001    0.001 <string>:10(fast)\n",
        "        1    0.000    0.000    0.000    0.000 {method 'disable' of '_lsprof.Profiler' objects}\n",
        "        1    0.001    0.001    0.001    0.001 {time.sleep}\n",
        "\n",
        "\n"
       ]
      }
     ],
     "prompt_number": 22
    },
    {
     "cell_type": "code",
     "collapsed": false,
     "input": [
      "cProfile.run(\"use_fast()\", \"optimizing/fast.stats\")\n",
      "import pstats\n",
      "stats = pstats.Stats(\"optimizing/fast.stats\")\n",
      "stats.print_stats()"
     ],
     "language": "python",
     "metadata": {},
     "outputs": [
      {
       "output_type": "stream",
       "stream": "stdout",
       "text": [
        "Fri Feb 21 13:55:09 2014    optimizing/fast.stats\n",
        "\n",
        "         203 function calls in 0.112 seconds\n",
        "\n",
        "   Random listing order was used\n",
        "\n",
        "   ncalls  tottime  percall  cumtime  percall filename:lineno(function)\n",
        "      100    0.111    0.001    0.111    0.001 {time.sleep}\n",
        "        1    0.000    0.000    0.000    0.000 {method 'disable' of '_lsprof.Profiler' objects}\n",
        "        1    0.000    0.000    0.112    0.112 <string>:22(use_fast)\n",
        "      100    0.001    0.000    0.112    0.001 <string>:10(fast)\n",
        "        1    0.000    0.000    0.112    0.112 <string>:1(<module>)\n",
        "\n",
        "\n"
       ]
      },
      {
       "metadata": {},
       "output_type": "pyout",
       "prompt_number": 37,
       "text": [
        "<pstats.Stats instance at 0x10f50e1b8>"
       ]
      }
     ],
     "prompt_number": 37
    },
    {
     "cell_type": "markdown",
     "metadata": {},
     "source": [
      "Or sort by time"
     ]
    },
    {
     "cell_type": "code",
     "collapsed": false,
     "input": [
      "stats.sort_stats(\"time\").print_stats()"
     ],
     "language": "python",
     "metadata": {},
     "outputs": [
      {
       "output_type": "stream",
       "stream": "stdout",
       "text": [
        "Fri Feb 21 13:55:09 2014    optimizing/fast.stats\n",
        "\n",
        "         203 function calls in 0.112 seconds\n",
        "\n",
        "   Ordered by: internal time\n",
        "\n",
        "   ncalls  tottime  percall  cumtime  percall filename:lineno(function)\n",
        "      100    0.111    0.001    0.111    0.001 {time.sleep}\n",
        "      100    0.001    0.000    0.112    0.001 <string>:10(fast)\n",
        "        1    0.000    0.000    0.112    0.112 <string>:22(use_fast)\n",
        "        1    0.000    0.000    0.112    0.112 <string>:1(<module>)\n",
        "        1    0.000    0.000    0.000    0.000 {method 'disable' of '_lsprof.Profiler' objects}\n",
        "\n",
        "\n"
       ]
      },
      {
       "metadata": {},
       "output_type": "pyout",
       "prompt_number": 38,
       "text": [
        "<pstats.Stats instance at 0x10f50e1b8>"
       ]
      }
     ],
     "prompt_number": 38
    },
    {
     "cell_type": "markdown",
     "metadata": {},
     "source": [
      "Or print out who is calling a certain function:"
     ]
    },
    {
     "cell_type": "code",
     "collapsed": false,
     "input": [
      "stats.print_callers(\"fast\")"
     ],
     "language": "python",
     "metadata": {},
     "outputs": [
      {
       "output_type": "stream",
       "stream": "stdout",
       "text": [
        "   Ordered by: internal time\n",
        "   List reduced from 5 to 2 due to restriction <'fast'>\n",
        "\n",
        "Function               was called by...\n",
        "                           ncalls  tottime  cumtime\n",
        "<string>:10(fast)      <-     100    0.001    0.112  <string>:22(use_fast)\n",
        "<string>:22(use_fast)  <-       1    0.000    0.112  <string>:1(<module>)\n",
        "\n",
        "\n"
       ]
      },
      {
       "metadata": {},
       "output_type": "pyout",
       "prompt_number": 39,
       "text": [
        "<pstats.Stats instance at 0x10f50e1b8>"
       ]
      }
     ],
     "prompt_number": 39
    },
    {
     "cell_type": "markdown",
     "metadata": {},
     "source": [
      "Or who is calling you:"
     ]
    },
    {
     "cell_type": "code",
     "collapsed": false,
     "input": [
      "stats.print_callees(\"use_fast\")"
     ],
     "language": "python",
     "metadata": {},
     "outputs": [
      {
       "output_type": "stream",
       "stream": "stdout",
       "text": [
        "   Ordered by: internal time\n",
        "   List reduced from 5 to 1 due to restriction <'use_fast'>\n",
        "\n",
        "Function               called...\n",
        "                           ncalls  tottime  cumtime\n",
        "<string>:22(use_fast)  ->     100    0.001    0.112  <string>:10(fast)\n",
        "\n",
        "\n"
       ]
      },
      {
       "metadata": {},
       "output_type": "pyout",
       "prompt_number": 40,
       "text": [
        "<pstats.Stats instance at 0x10f50e1b8>"
       ]
      }
     ],
     "prompt_number": 40
    },
    {
     "cell_type": "code",
     "collapsed": false,
     "input": [
      "profiler = cProfile.Profile()"
     ],
     "language": "python",
     "metadata": {},
     "outputs": [],
     "prompt_number": 33
    },
    {
     "cell_type": "code",
     "collapsed": false,
     "input": [
      "profiler.runcall(slow)"
     ],
     "language": "python",
     "metadata": {},
     "outputs": [],
     "prompt_number": 34
    },
    {
     "cell_type": "code",
     "collapsed": false,
     "input": [
      "profiler.print_stats()"
     ],
     "language": "python",
     "metadata": {},
     "outputs": [
      {
       "output_type": "stream",
       "stream": "stdout",
       "text": [
        "         3 function calls in 0.101 seconds\n",
        "\n",
        "   Ordered by: standard name\n",
        "\n",
        "   ncalls  tottime  percall  cumtime  percall filename:lineno(function)\n",
        "        1    0.000    0.000    0.101    0.101 <string>:16(slow)\n",
        "        1    0.000    0.000    0.000    0.000 {method 'disable' of '_lsprof.Profiler' objects}\n",
        "        1    0.101    0.101    0.101    0.101 {time.sleep}\n",
        "\n",
        "\n"
       ]
      }
     ],
     "prompt_number": 35
    },
    {
     "cell_type": "markdown",
     "metadata": {},
     "source": [
      "### Wall clock vs CPU time\n",
      "\n",
      "- We've measured wall clock time, time between start and top. How long was CPU actually occupied?\n",
      "- The `timeit` module's timer by default gives the CPU time, in particular `timeit.default_timer()`.\n",
      "- `cProfiler` can be used to do both, and by default measures wall-clock time.\n",
      "- In Python 2 need to be clever to specify the highest precision timer available for Windows. Not necessary for Linux/Mac."
     ]
    },
    {
     "cell_type": "code",
     "collapsed": false,
     "input": [
      "%load optimizing/measuring/cpu_time.py"
     ],
     "language": "python",
     "metadata": {},
     "outputs": [],
     "prompt_number": 41
    },
    {
     "cell_type": "code",
     "collapsed": false,
     "input": [
      "# file: cpu_time.py\n",
      "\n",
      "\"\"\"Measuring CPU time instead of wall clock time.\n",
      "\"\"\"\n",
      "\n",
      "import cProfile\n",
      "import os\n",
      "import sys\n",
      "import time\n",
      "\n",
      "# Make it work with Python 2 and Python 3.\n",
      "if sys.version_info[0] < 3:\n",
      "    range = xrange\n",
      "\n",
      "\n",
      "# This is important for Python 2.\n",
      "def cpu_time():\n",
      "    \"\"\"Function for cpu time. Os dependent.\n",
      "    \"\"\"\n",
      "    if sys.platform == 'win32':\n",
      "        return os.times()[0]\n",
      "    else:\n",
      "        return time.clock()\n",
      "\n",
      "\n",
      "def sleep():\n",
      "    \"\"\"Wait 2 seconds.\n",
      "    \"\"\"\n",
      "    time.sleep(2)\n",
      "\n",
      "\n",
      "def count():\n",
      "    \"\"\"100 million loops.\n",
      "    \"\"\"\n",
      "    for _ in range(int(1e8)):\n",
      "        1 + 1\n",
      "\n",
      "\n",
      "def test():\n",
      "    \"\"\"Run functions\n",
      "    \"\"\"\n",
      "    sleep()\n",
      "    count()\n",
      "\n",
      "\n",
      "def clock_check():\n",
      "    \"\"\"Profile with wall clock and cpu time.\n",
      "    \"\"\"\n",
      "    \n",
      "    #\u00a0wall clock time (first print block)\n",
      "    profiler = cProfile.Profile()\n",
      "    profiler.run('test()')\n",
      "    profiler.print_stats()\n",
      "\n",
      "    #\u00a0cpu time (second print block)\n",
      "    profiler = cProfile.Profile(cpu_time)\n",
      "    profiler.run('test()')\n",
      "    profiler.print_stats()\n",
      "\n",
      "if __name__ == '__main__':\n",
      "    clock_check()\n"
     ],
     "language": "python",
     "metadata": {},
     "outputs": [
      {
       "output_type": "stream",
       "stream": "stdout",
       "text": [
        "         6 function calls in 5.888 seconds\n",
        "\n",
        "   Ordered by: standard name\n",
        "\n",
        "   ncalls  tottime  percall  cumtime  percall filename:lineno(function)\n",
        "        1    0.000    0.000    2.001    2.001 <ipython-input-44-4eedabdd7a22>:25(sleep)\n",
        "        1    3.886    3.886    3.886    3.886 <ipython-input-44-4eedabdd7a22>:31(count)\n",
        "        1    0.000    0.000    5.888    5.888 <ipython-input-44-4eedabdd7a22>:38(test)\n",
        "        1    0.000    0.000    5.888    5.888 <string>:1(<module>)\n",
        "        1    0.000    0.000    0.000    0.000 {method 'disable' of '_lsprof.Profiler' objects}\n",
        "        1    2.001    2.001    2.001    2.001 {time.sleep}\n",
        "\n",
        "\n",
        "        "
       ]
      },
      {
       "output_type": "stream",
       "stream": "stdout",
       "text": [
        " 6 function calls in 3.659 seconds\n",
        "\n",
        "   Ordered by: standard name\n",
        "\n",
        "   ncalls  tottime  percall  cumtime  percall filename:lineno(function)\n",
        "        1    0.000    0.000    0.000    0.000 <ipython-input-44-4eedabdd7a22>:25(sleep)\n",
        "        1    3.659    3.659    3.659    3.659 <ipython-input-44-4eedabdd7a22>:31(count)\n",
        "        1    0.000    0.000    3.659    3.659 <ipython-input-44-4eedabdd7a22>:38(test)\n",
        "        1    0.000    0.000    3.659    3.659 <string>:1(<module>)\n",
        "        1    0.000    0.000    0.000    0.000 {method 'disable' of '_lsprof.Profiler' objects}\n",
        "        1    0.000    0.000    0.000    0.000 {time.sleep}\n",
        "\n",
        "\n"
       ]
      }
     ],
     "prompt_number": 44
    },
    {
     "cell_type": "markdown",
     "metadata": {},
     "source": [
      "## Line profiling\n",
      "\n",
      "    pip install line_profiler\n",
      "   \n",
      "- You need to decorate functions you want to call. Then Python script then only callable via `kernprof.py`."
     ]
    },
    {
     "cell_type": "code",
     "collapsed": false,
     "input": [
      "!cat optimizing/measuring/profile_me_use_line_profiler.py\n",
      "!kernprof.py -l -v optimizing/measuring/profile_me_use_line_profiler.py"
     ],
     "language": "python",
     "metadata": {},
     "outputs": [
      {
       "output_type": "stream",
       "stream": "stdout",
       "text": [
        "# file profile_me_use_line_profiler.py\r\n",
        "\r\n",
        "\"\"\"Example to be profiled.\r\n",
        "\"\"\"\r\n",
        "\r\n",
        "import time\r\n",
        "\r\n",
        "\r\n",
        "def fast():\r\n",
        "    \"\"\"Wait 0.001 seconds.\r\n",
        "    \"\"\"\r\n",
        "    time.sleep(1e-3)\r\n",
        "\r\n",
        "\r\n",
        "def slow():\r\n",
        "    \"\"\"Wait 0.1 seconds.\r\n",
        "    \"\"\"\r\n",
        "    time.sleep(0.1)\r\n",
        "\r\n",
        "@profile\r\n",
        "def use_fast():\r\n",
        "    \"\"\"Call `fast` 100 times.\r\n",
        "    \"\"\"\r\n",
        "    for _ in xrange(100):\r\n",
        "        fast()\r\n",
        "\r\n",
        "@profile\r\n",
        "def use_slow():\r\n",
        "    \"\"\"Call `slow` 100 times.\r\n",
        "    \"\"\"\r\n",
        "    for _ in xrange(100):\r\n",
        "        slow()\r\n",
        "\r\n",
        "\r\n",
        "if __name__ == '__main__':\r\n",
        "    use_fast()\r\n",
        "    use_slow()\r\n"
       ]
      },
      {
       "output_type": "stream",
       "stream": "stdout",
       "text": [
        "Wrote profile results to profile_me_use_line_profiler.py.lprof\r\n",
        "Timer unit: 1e-06 s\r\n",
        "\r\n",
        "File: optimizing/measuring/profile_me_use_line_profiler.py\r\n",
        "Function: use_fast at line 20\r\n",
        "Total time: 0.224622 s\r\n",
        "\r\n",
        "Line #      Hits         Time  Per Hit   % Time  Line Contents\r\n",
        "==============================================================\r\n",
        "    20                                           @profile\r\n",
        "    21                                           def use_fast():\r\n",
        "    22                                               \"\"\"Call `fast` 100 times.\r\n",
        "    23                                               \"\"\"\r\n",
        "    24       101          532      5.3      0.2      for _ in xrange(100):\r\n",
        "    25       100       224090   2240.9     99.8          fast()\r\n",
        "\r\n",
        "File: optimizing/measuring/profile_me_use_line_profiler.py\r\n",
        "Function: use_slow at line 27\r\n",
        "Total time: 10.1059 s\r\n",
        "\r\n",
        "Line #      Hits         Time  Per Hit   % Time  Line Contents\r\n",
        "==============================================================\r\n",
        "    27                                           @profile\r\n",
        "    28                                           def use_slow():\r\n",
        "    29                                               \"\"\"Call `slow` 100 times.\r\n",
        "    30                                               \"\"\"\r\n",
        "    31       101          836      8.3      0.0      for _ in xrange(100):\r\n",
        "    32       100     10105048 101050.5    100.0          slow()\r\n",
        "\r\n"
       ]
      }
     ],
     "prompt_number": 52
    },
    {
     "cell_type": "code",
     "collapsed": false,
     "input": [
      "!cat optimizing/measuring/accumulate.py\n",
      "!kernprof.py -l -v optimizing/measuring/accumulate.py"
     ],
     "language": "python",
     "metadata": {},
     "outputs": [
      {
       "output_type": "stream",
       "stream": "stdout",
       "text": [
        "# file accumulate.py\r\n",
        "\r\n",
        "\"\"\"Simple test function for line_profiler.\r\n",
        "\"\"\"\r\n",
        "\r\n",
        "@profile\r\n",
        "def accumulate(iterable):\r\n",
        "    \"\"\"Accumulate the intermediate steps in summing all elements.\r\n",
        "\r\n",
        "    The result is a list with the length of `iterable`.\r\n",
        "    The last element is the sum of all elements of `iterable`\r\n",
        "    >>>accumulate(range(5))\r\n",
        "    [0, 1, 3, 6, 10]\r\n",
        "    accumulate(range(10))\r\n",
        "    [0, 1, 3, 6, 10, 15, 21, 28, 36, 45]\r\n",
        "    \"\"\"\r\n",
        "    acm = [iterable[0]]\r\n",
        "    for elem in iterable[1:]:\r\n",
        "        old_value = acm[-1]\r\n",
        "        new_value = old_value + elem\r\n",
        "        acm.append(new_value)\r\n",
        "    return acm\r\n",
        "\r\n",
        "\r\n",
        "if __name__ == '__main__':\r\n",
        "    accumulate(range(10))\r\n",
        "    accumulate(range(100))\r\n"
       ]
      },
      {
       "output_type": "stream",
       "stream": "stdout",
       "text": [
        "Wrote profile results to accumulate.py.lprof\r\n",
        "Timer unit: 1e-06 s\r\n",
        "\r\n",
        "File: optimizing/measuring/accumulate.py\r\n",
        "Function: accumulate at line 6\r\n",
        "Total time: 0.000835 s\r\n",
        "\r\n",
        "Line #      Hits         Time  Per Hit   % Time  Line Contents\r\n",
        "==============================================================\r\n",
        "     6                                           @profile\r\n",
        "     7                                           def accumulate(iterable):\r\n",
        "     8                                               \"\"\"Accumulate the intermediate steps in summing all elements.\r\n",
        "     9                                           \r\n",
        "    10                                               The result is a list with the length of `iterable`.\r\n",
        "    11                                               The last element is the sum of all elements of `iterable`\r\n",
        "    12                                               >>>accumulate(range(5))\r\n",
        "    13                                               [0, 1, 3, 6, 10]\r\n",
        "    14                                               accumulate(range(10))\r\n",
        "    15                                               [0, 1, 3, 6, 10, 15, 21, 28, 36, 45]\r\n",
        "    16                                               \"\"\"\r\n",
        "    17         2            8      4.0      1.0      acm = [iterable[0]]\r\n",
        "    18       110          183      1.7     21.9      for elem in iterable[1:]:\r\n",
        "    19       108          194      1.8     23.2          old_value = acm[-1]\r\n",
        "    20       108          189      1.8     22.6          new_value = old_value + elem\r\n",
        "    21       108          257      2.4     30.8          acm.append(new_value)\r\n",
        "    22         2            4      2.0      0.5      return acm\r\n",
        "\r\n"
       ]
      }
     ],
     "prompt_number": 51
    },
    {
     "cell_type": "code",
     "collapsed": false,
     "input": [
      "!cat optimizing/measuring/calc.py\n",
      "!kernprof.py -l -v optimizing/measuring/calc.py"
     ],
     "language": "python",
     "metadata": {},
     "outputs": [
      {
       "output_type": "stream",
       "stream": "stdout",
       "text": [
        "#calc.py\r\n",
        "\r\n",
        "\"\"\"Simple test function for line_profiler doing some math.\r\n",
        "\"\"\"\r\n",
        "\r\n",
        "import math\r\n",
        "\r\n",
        "\r\n",
        "@profile\r\n",
        "def calc(number, loops=1000):\r\n",
        "    \"\"\"Do some math calculations.\r\n",
        "    \"\"\"\r\n",
        "    sqrt = math.sqrt\r\n",
        "    for x in xrange(loops):\r\n",
        "        x = number + 10\r\n",
        "        x = number * 10\r\n",
        "        x = number ** 10\r\n",
        "        x = pow(x, 10)\r\n",
        "        x = math.sqrt(number)\r\n",
        "        x = sqrt(number)\r\n",
        "        math.sqrt\r\n",
        "        sqrt\r\n",
        "\r\n",
        "if __name__ == '__main__':\r\n",
        "    calc(100, int(1e5))\r\n"
       ]
      },
      {
       "output_type": "stream",
       "stream": "stdout",
       "text": [
        "Wrote profile results to calc.py.lprof\r\n",
        "Timer unit: 1e-06 s\r\n",
        "\r\n",
        "File: optimizing/measuring/calc.py\r\n",
        "Function: calc at line 9\r\n",
        "Total time: 3.22063 s\r\n",
        "\r\n",
        "Line #      Hits         Time  Per Hit   % Time  Line Contents\r\n",
        "==============================================================\r\n",
        "     9                                           @profile\r\n",
        "    10                                           def calc(number, loops=1000):\r\n",
        "    11                                               \"\"\"Do some math calculations.\r\n",
        "    12                                               \"\"\"\r\n",
        "    13         1            4      4.0      0.0      sqrt = math.sqrt\r\n",
        "    14    100001       181809      1.8      5.6      for x in xrange(loops):\r\n",
        "    15    100000       222135      2.2      6.9          x = number + 10\r\n",
        "    16    100000       203972      2.0      6.3          x = number * 10\r\n",
        "    17    100000       738871      7.4     22.9          x = number ** 10\r\n",
        "    18    100000       878143      8.8     27.3          x = pow(x, 10)\r\n",
        "    19    100000       312327      3.1      9.7          x = math.sqrt(number)\r\n",
        "    20    100000       264540      2.6      8.2          x = sqrt(number)\r\n",
        "    21    100000       218328      2.2      6.8          math.sqrt\r\n",
        "    22    100000       200501      2.0      6.2          sqrt\r\n",
        "\r\n"
       ]
      }
     ],
     "prompt_number": 50
    },
    {
     "cell_type": "markdown",
     "metadata": {},
     "source": [
      "If you're willing to accept a performance hit you can catch the NameError exception and define an empty `profile` decorator, and let your program be executable without `kernprof.py`."
     ]
    },
    {
     "cell_type": "code",
     "collapsed": false,
     "input": [
      "try:\n",
      "    @profile\n",
      "    def dummy():\n",
      "        \"\"\"Needs to be here to avoid syntax error\"\"\"\n",
      "        pass\n",
      "except NameError:\n",
      "    def profile(func):\n",
      "        \"\"\"Empty decorator if not under kernprof.py\"\"\"\n",
      "        return func"
     ],
     "language": "python",
     "metadata": {},
     "outputs": [],
     "prompt_number": 53
    },
    {
     "cell_type": "markdown",
     "metadata": {},
     "source": [
      "### Do local references of functions make a difference?\n",
      "\n",
      "Often claimed to be much faster."
     ]
    },
    {
     "cell_type": "code",
     "collapsed": false,
     "input": [
      "!cat optimizing/measuring/local_ref.py\n",
      "!kernprof.py -l -v optimizing/measuring/local_ref.py\n",
      "!kernprof.py -v optimizing/measuring/local_ref.py"
     ],
     "language": "python",
     "metadata": {},
     "outputs": [
      {
       "output_type": "stream",
       "stream": "stdout",
       "text": [
        "# local_ref.py\r\n",
        "\r\n",
        "\"\"\"Testing access to local name and name referenced on another module.\r\n",
        "\"\"\"\r\n",
        "\r\n",
        "import math\r\n",
        "\r\n",
        "# If there is no decorator `profile`, make one that just calls the function,\r\n",
        "# i.e. does nothing.\r\n",
        "# This allows to call `kernprof` with and without the option `-l` without\r\n",
        "# commenting or un-commentimg `@profile' all the time.\r\n",
        "# You can add this to the builtins to make it available in the whole program.\r\n",
        "try:\r\n",
        "    @profile\r\n",
        "    def dummy():\r\n",
        "        \"\"\"Needs to be here to avoid a syntax error.\r\n",
        "        \"\"\"\r\n",
        "        pass\r\n",
        "except NameError:\r\n",
        "    def profile(func):\r\n",
        "        \"\"\"Will act as the decorator `profile` if it was already found.\r\n",
        "        \"\"\"\r\n",
        "        return func\r\n",
        "\r\n",
        "\r\n",
        "def local_ref(counter):\r\n",
        "    \"\"\"Access local name.\r\n",
        "    \"\"\"\r\n",
        "    # make it local\r\n",
        "    sqrt = math.sqrt\r\n",
        "    for _ in xrange(counter):\r\n",
        "        sqrt\r\n",
        "\r\n",
        "\r\n",
        "def module_ref(counter):\r\n",
        "    \"\"\"Access name as attribute of another module.\r\n",
        "    \"\"\"\r\n",
        "    for _ in xrange(counter):\r\n",
        "        math.sqrt\r\n",
        "\r\n",
        "\r\n",
        "@profile\r\n",
        "def test(counter):\r\n",
        "    \"\"\"Call both functions.\r\n",
        "    \"\"\"\r\n",
        "    local_ref(counter)\r\n",
        "    module_ref(counter)\r\n",
        "\r\n",
        "if __name__ == '__main__':\r\n",
        "    test(int(1e6))\r\n"
       ]
      },
      {
       "output_type": "stream",
       "stream": "stdout",
       "text": [
        "Wrote profile results to local_ref.py.lprof\r\n",
        "Timer unit: 1e-06 s\r\n",
        "\r\n",
        "File: optimizing/measuring/local_ref.py\r\n",
        "Function: dummy at line 14\r\n",
        "Total time: 0 s\r\n"
       ]
      },
      {
       "output_type": "stream",
       "stream": "stdout",
       "text": [
        "\r\n",
        "Line #      Hits         Time  Per Hit   % Time  Line Contents\r\n",
        "==============================================================\r\n",
        "    14                                               @profile\r\n",
        "    15                                               def dummy():\r\n",
        "    16                                                   \"\"\"Needs to be here to avoid a syntax error.\r\n",
        "    17                                                   \"\"\"\r\n",
        "    18                                                   pass\r\n",
        "\r\n",
        "File: optimizing/measuring/local_ref.py\r\n",
        "Function: test at line 42\r\n",
        "Total time: 2.81661 s\r\n",
        "\r\n",
        "Line #      Hits         Time  Per Hit   % Time  Line Contents\r\n",
        "==============================================================\r\n",
        "    42                                           @profile\r\n",
        "    43                                           def test(counter):\r\n",
        "    44                                               \"\"\"Call both functions.\r\n",
        "    45                                               \"\"\"\r\n",
        "    46         1      1431722 1431722.0     50.8      local_ref(counter)\r\n",
        "    47         1      1384886 1384886.0     49.2      module_ref(counter)\r\n",
        "\r\n"
       ]
      },
      {
       "output_type": "stream",
       "stream": "stdout",
       "text": [
        "Wrote profile results to local_ref.py.prof\r\n",
        "         8 function calls in 0.269 seconds\r\n",
        "\r\n",
        "   Ordered by: standard name\r\n",
        "\r\n",
        "   ncalls  tottime  percall  cumtime  percall filename:lineno(function)\r\n",
        "        1    0.000    0.000    0.269    0.269 <string>:1(<module>)\r\n",
        "        1    0.000    0.000    0.000    0.000 local_ref.py:20(profile)\r\n",
        "        1    0.069    0.069    0.069    0.069 local_ref.py:26(local_ref)\r\n",
        "        1    0.199    0.199    0.199    0.199 local_ref.py:35(module_ref)\r\n",
        "        1    0.001    0.001    0.269    0.269 local_ref.py:4(<module>)\r\n",
        "        1    0.000    0.000    0.268    0.268 local_ref.py:42(test)\r\n",
        "        1    0.001    0.001    0.269    0.269 {execfile}\r\n",
        "        1    0.000    0.000    0.000    0.000 {method 'disable' of '_lsprof.Profiler' objects}\r\n",
        "\r\n",
        "\r\n"
       ]
      }
     ],
     "prompt_number": 56
    },
    {
     "cell_type": "markdown",
     "metadata": {},
     "source": [
      "- Note that using line profiling (-l) increases total run time by an order of magnitude\n",
      "- Note that the local reference is, proportionally, significantly faster, but is unlikely to be the CPU bottleneck in your application"
     ]
    },
    {
     "cell_type": "markdown",
     "metadata": {},
     "source": [
      "##\u00a0Profiling Memory Usage\n",
      "\n",
      "- `guppy` heaves you heappy. `pip install guppy`.\n",
      "- !!AI this isn't working in the IPython Notebook. Maybe the way it calls into the IPython kernel doesn't let this work?"
     ]
    },
    {
     "cell_type": "code",
     "collapsed": false,
     "input": [
      "from guppy import hpy\n",
      "h = hpy()"
     ],
     "language": "python",
     "metadata": {},
     "outputs": [],
     "prompt_number": 62
    },
    {
     "cell_type": "code",
     "collapsed": false,
     "input": [
      "h.heap()"
     ],
     "language": "python",
     "metadata": {},
     "outputs": [
      {
       "metadata": {},
       "output_type": "pyout",
       "prompt_number": 68,
       "text": [
        "Partition of a set of 277252 objects. Total size = 37926632 bytes.\n",
        " Index  Count   %     Size   % Cumulative  % Kind (class / dict of class)\n",
        "     0 125560  45 14174840  37  14174840  37 str\n",
        "     1  65536  24  5839736  15  20014576  53 tuple\n",
        "     2    778   0  2525680   7  22540256  59 dict of module\n",
        "     3   2131   1  2323528   6  24863784  66 dict (no owner)\n",
        "     4  16485   6  2110080   6  26973864  71 types.CodeType\n",
        "     5  16251   6  1950120   5  28923984  76 function\n",
        "     6   1717   1  1549256   4  30473240  80 type\n",
        "     7   1713   1  1429272   4  31902512  84 dict of type\n",
        "     8    675   0   642888   2  32545400  86 dict of class\n",
        "     9   3547   1   624472   2  33169872  87 list\n",
        "<756 more rows. Type e.g. '_.more' to view.>"
       ]
      }
     ],
     "prompt_number": 68
    },
    {
     "cell_type": "code",
     "collapsed": false,
     "input": [
      "biglist = range(1000000)"
     ],
     "language": "python",
     "metadata": {},
     "outputs": [],
     "prompt_number": 69
    },
    {
     "cell_type": "code",
     "collapsed": false,
     "input": [
      "h.heap()"
     ],
     "language": "python",
     "metadata": {},
     "outputs": [
      {
       "metadata": {},
       "output_type": "pyout",
       "prompt_number": 70,
       "text": [
        "Partition of a set of 277274 objects. Total size = 37929160 bytes.\n",
        " Index  Count   %     Size   % Cumulative  % Kind (class / dict of class)\n",
        "     0 125570  45 14176216  37  14176216  37 str\n",
        "     1  65538  24  5839912  15  20016128  53 tuple\n",
        "     2    778   0  2525680   7  22541808  59 dict of module\n",
        "     3   2131   1  2323528   6  24865336  66 dict (no owner)\n",
        "     4  16485   6  2110080   6  26975416  71 types.CodeType\n",
        "     5  16251   6  1950120   5  28925536  76 function\n",
        "     6   1717   1  1549256   4  30474792  80 type\n",
        "     7   1713   1  1429272   4  31904064  84 dict of type\n",
        "     8    675   0   642888   2  32546952  86 dict of class\n",
        "     9   3549   1   624744   2  33171696  87 list\n",
        "<756 more rows. Type e.g. '_.more' to view.>"
       ]
      }
     ],
     "prompt_number": 70
    },
    {
     "cell_type": "code",
     "collapsed": false,
     "input": [
      "h.heap()[0]"
     ],
     "language": "python",
     "metadata": {},
     "outputs": [
      {
       "metadata": {},
       "output_type": "pyout",
       "prompt_number": 72,
       "text": [
        "Partition of a set of 125655 objects. Total size = 14187984 bytes.\n",
        " Index  Count   %     Size   % Cumulative  % Kind (class / dict of class)\n",
        "     0 125655 100 14187984 100  14187984 100 str"
       ]
      }
     ],
     "prompt_number": 72
    },
    {
     "cell_type": "markdown",
     "metadata": {},
     "source": [
      "Here are some command-line examples of `hpy`. We've written our own decorator to track the memory change resulting from a function call."
     ]
    },
    {
     "cell_type": "code",
     "collapsed": false,
     "input": [
      "!cat optimizing/measuring/memory_size_hpy.py\n",
      "!python optimizing/measuring/memory_size_hpy.py"
     ],
     "language": "python",
     "metadata": {},
     "outputs": [
      {
       "output_type": "stream",
       "stream": "stdout",
       "text": [
        "# file: memory_size_hpy.py\r\n",
        "\r\n",
        "\"\"\"Measure the size of used memory with a decorator.\r\n",
        "\"\"\"\r\n",
        "\r\n",
        "import functools                                                #1\r\n",
        "\r\n",
        "from guppy import hpy                                           #2\r\n",
        "\r\n",
        "memory = {}                                                     #3\r\n",
        "\r\n",
        "\r\n",
        "def measure_memory(function):                                   #4\r\n",
        "    \"\"\"Decorator to measure memory size.\r\n",
        "    \"\"\"\r\n",
        "\r\n",
        "    @functools.wraps(function)                                  #5\r\n",
        "    def _measure_memory(*args, **kwargs):                       #6\r\n",
        "        \"\"\"This replaces the function that is to be measured.\r\n",
        "        \"\"\"\r\n",
        "        measurer = hpy()                                        #7\r\n",
        "        measurer.setref()                                       #8\r\n",
        "        inital_memory = measurer.heap().size                    #9\r\n",
        "        try:\r\n",
        "            res = function(*args, **kwargs)                     #10\r\n",
        "            return res\r\n",
        "        finally:                                                #11\r\n",
        "            memory[function.__name__] = (measurer.heap().size -\r\n",
        "                                         inital_memory)\r\n",
        "    return _measure_memory                                      #12\r\n",
        "\r\n",
        "\r\n",
        "if __name__ == '__main__':\r\n",
        "\r\n",
        "    @measure_memory                                             #13\r\n",
        "    def make_big(number):\r\n",
        "        \"\"\"Example function that makes a large list.\r\n",
        "        \"\"\"\r\n",
        "        return range(number)                                         #14\r\n",
        "\r\n",
        "    make_big(int(1e6))                                          #15\r\n",
        "    print 'used memory', memory                                 #16\r\n"
       ]
      },
      {
       "output_type": "stream",
       "stream": "stdout",
       "text": [
        "used memory {'make_big': 32124976}\r\n"
       ]
      }
     ],
     "prompt_number": 74
    },
    {
     "cell_type": "markdown",
     "metadata": {},
     "source": [
      "And again we can use the same `kernprof.py` empty profile decorator as before if we wanted to no-op this decorator in code."
     ]
    },
    {
     "cell_type": "code",
     "collapsed": false,
     "input": [
      "!cat optimizing/measuring/memory_growth_hpy.py\n",
      "!python optimizing/measuring/memory_growth_hpy.py"
     ],
     "language": "python",
     "metadata": {},
     "outputs": [
      {
       "output_type": "stream",
       "stream": "stdout",
       "text": [
        "# file memory._growth_hpy.py\r\n",
        "\r\n",
        "\"\"\"Measure the memory growth during a function call.\r\n",
        "\"\"\"\r\n",
        "\r\n",
        "from guppy import hpy                                           #1\r\n",
        "\r\n",
        "\r\n",
        "def check_memory_growth(function, *args, **kwargs):             #2\r\n",
        "    \"\"\"Measure the memory usage of `function`.\r\n",
        "    \"\"\"\r\n",
        "    measurer = hpy()                                            #3\r\n",
        "    measurer.setref()                                           #4\r\n",
        "    inital_memory = measurer.heap().size                        #5\r\n",
        "    function(*args, **kwargs)                                   #6\r\n",
        "    return measurer.heap().size - inital_memory                 #7\r\n",
        "\r\n",
        "if __name__ == '__main__':\r\n",
        "\r\n",
        "    def test():\r\n",
        "        \"\"\"Do some tests with different memory usage patterns.\r\n",
        "        \"\"\"\r\n",
        "\r\n",
        "        def make_big(number):                                   #8\r\n",
        "            \"\"\"Function without side effects.\r\n",
        "\r\n",
        "            It cleans up all used memory after it returns.\r\n",
        "            \"\"\"\r\n",
        "            return range(number)\r\n",
        "\r\n",
        "        data = []                                               #9\r\n",
        "\r\n",
        "        def grow(number):\r\n",
        "            \"\"\"Function with side effects on global list.\r\n",
        "            \"\"\"\r\n",
        "            for x in xrange(number):\r\n",
        "                data.append(x)                                  #10\r\n",
        "        size = int(1e6)\r\n",
        "        print 'memory make_big:', check_memory_growth(make_big,\r\n",
        "                                                      size)     #11\r\n",
        "        print 'memory grow:', check_memory_growth(grow, size)   #12\r\n",
        "\r\n",
        "    test()\r\n"
       ]
      },
      {
       "output_type": "stream",
       "stream": "stdout",
       "text": [
        "memory make_big: 1320\r\n"
       ]
      },
      {
       "output_type": "stream",
       "stream": "stdout",
       "text": [
        "memory grow: 23998472\r\n"
       ]
      }
     ],
     "prompt_number": 76
    },
    {
     "cell_type": "markdown",
     "metadata": {},
     "source": [
      "`make_big` is very small because CPython uses a reference-counted synchronous garbage collector. The unused value is immediately garbage collected."
     ]
    },
    {
     "cell_type": "markdown",
     "metadata": {},
     "source": [
      "### Using pympler for memory profiling\n",
      "\n",
      "Easier to compile for Python 2.7+"
     ]
    },
    {
     "cell_type": "code",
     "collapsed": false,
     "input": [
      "!cat optimizing/measuring/memory_growth_pympler.py\n",
      "!python optimizing/measuring/memory_growth_pympler.py"
     ],
     "language": "python",
     "metadata": {},
     "outputs": [
      {
       "output_type": "stream",
       "stream": "stdout",
       "text": [
        "# file memory_growth_pympler.py\r\n",
        "\r\n",
        "\"\"\"Measure the memory growth during a function call.\r\n",
        "\"\"\"\r\n",
        "\r\n",
        "from pympler import tracker                                     #1\r\n",
        "\r\n",
        "\r\n",
        "def check_memory_growth(function, *args, **kwargs):             #2\r\n",
        "    \"\"\"Measure the memory usage of `function`.\r\n",
        "    \"\"\"\r\n",
        "    measurer = tracker.SummaryTracker()                         #3\r\n",
        "    for _ in xrange(5):                                         #4\r\n",
        "        measurer.diff()                                         #5    \r\n",
        "    function(*args, **kwargs)                                   #6\r\n",
        "    return measurer.diff()                                      #7\r\n",
        "\r\n",
        "if __name__ == '__main__':\r\n",
        "\r\n",
        "    def test():\r\n",
        "        \"\"\"Do some tests with different memory usage patterns.\r\n",
        "        \"\"\"\r\n",
        "\r\n",
        "        def make_big(number):                                   #8\r\n",
        "            \"\"\"Function without side effects.\r\n",
        "\r\n",
        "            It cleans up all used memory after it returns.\r\n",
        "            \"\"\"\r\n",
        "            return range(number)\r\n",
        "\r\n",
        "        data = []                                               #9\r\n",
        "\r\n",
        "        def grow(number):\r\n",
        "            \"\"\"Function with side effects on global list.\r\n",
        "            \"\"\"\r\n",
        "            for x in xrange(number):\r\n",
        "                data.append(x)                                  #10\r\n",
        "        size = int(1e6)\r\n",
        "        print 'memory make_big:', check_memory_growth(make_big,\r\n",
        "                                                      size)     #11\r\n",
        "        print 'memory grow:', check_memory_growth(grow, size)   #12\r\n",
        "\r\n",
        "    test()\r\n"
       ]
      },
      {
       "output_type": "stream",
       "stream": "stdout",
       "text": [
        "memory make_big: []\r\n"
       ]
      },
      {
       "output_type": "stream",
       "stream": "stdout",
       "text": [
        "memory grow: [['list', 0, 8697400], ['int', 999860, 23996640]]\r\n"
       ]
      }
     ],
     "prompt_number": 81
    },
    {
     "cell_type": "markdown",
     "metadata": {},
     "source": [
      "!!AI why is make_big empty?"
     ]
    },
    {
     "cell_type": "markdown",
     "metadata": {},
     "source": [
      "###\u00a0Different pympler ways of measuring size of an object"
     ]
    },
    {
     "cell_type": "code",
     "collapsed": false,
     "input": [
      "import sys\n",
      "from pympler.asizeof import asizeof, flatsize\n",
      "\n",
      "def list_mem(length, size_func=flatsize):\n",
      "  \"\"\"Measure incremental memory increase of a growing list.\n",
      "  \"\"\"\n",
      "  my_list= []\n",
      "  mem = [size_func(my_list)]\n",
      "  for elem in xrange(length):\n",
      "    my_list.append(elem)\n",
      "    mem.append(size_func(my_list))\n",
      "  return mem\n",
      "\n",
      "SIZE = 1000\n",
      "SHOW = 20"
     ],
     "language": "python",
     "metadata": {},
     "outputs": [],
     "prompt_number": 94
    },
    {
     "cell_type": "code",
     "collapsed": false,
     "input": [
      "plot(list_mem(SIZE, size_func=flatsize))"
     ],
     "language": "python",
     "metadata": {},
     "outputs": [
      {
       "metadata": {},
       "output_type": "pyout",
       "prompt_number": 95,
       "text": [
        "[<matplotlib.lines.Line2D at 0x110418110>]"
       ]
      },
      {
       "metadata": {},
       "output_type": "display_data",
       "png": "[encoded data removed]",
       "text": [
        "<matplotlib.figure.Figure at 0x1111590d0>"
       ]
      }
     ],
     "prompt_number": 95
    },
    {
     "cell_type": "code",
     "collapsed": false,
     "input": [
      "plot(list_mem(SIZE, size_func=asizeof))"
     ],
     "language": "python",
     "metadata": {},
     "outputs": [
      {
       "metadata": {},
       "output_type": "pyout",
       "prompt_number": 96,
       "text": [
        "[<matplotlib.lines.Line2D at 0x1111f6310>]"
       ]
      },
      {
       "metadata": {},
       "output_type": "display_data",
       "png": "[encoded data removed]",
       "text": [
        "<matplotlib.figure.Figure at 0x1122bf4d0>"
       ]
      }
     ],
     "prompt_number": 96
    },
    {
     "cell_type": "code",
     "collapsed": false,
     "input": [
      "plot(list_mem(SIZE, size_func=sys.getsizeof))"
     ],
     "language": "python",
     "metadata": {},
     "outputs": [
      {
       "metadata": {},
       "output_type": "pyout",
       "prompt_number": 97,
       "text": [
        "[<matplotlib.lines.Line2D at 0x11048f290>]"
       ]
      },
      {
       "metadata": {},
       "output_type": "display_data",
       "png": "[encoded data removed]",
       "text": [
        "<matplotlib.figure.Figure at 0x1112059d0>"
       ]
      }
     ],
     "prompt_number": 97
    },
    {
     "cell_type": "markdown",
     "metadata": {},
     "source": [
      "- `sys.getsizeof` is the same thing as `pympler.flatsize`."
     ]
    },
    {
     "cell_type": "code",
     "collapsed": false,
     "input": [
      "%load optimizing/measuring/list_alloc_steps.py"
     ],
     "language": "python",
     "metadata": {},
     "outputs": [],
     "prompt_number": 102
    },
    {
     "cell_type": "code",
     "collapsed": false,
     "input": [
      "# file: list_alloc_steps.py\n",
      "\n",
      "\"\"\"Measure the number of memory allocation steps for a list.\n",
      "\"\"\"\n",
      "\n",
      "import sys\n",
      "\n",
      "from pympler.asizeof import flatsize\n",
      "\n",
      "\n",
      "def list_steps(lenght, size_func=sys.getsizeof):\n",
      "    \"\"\"Measure the number of memory alloaction steps for a list.\n",
      "    \"\"\"\n",
      "    my_list = []\n",
      "    steps = 0\n",
      "    int_size = size_func(int())\n",
      "    old_size = size_func(my_list)\n",
      "    for elem in xrange(lenght):\n",
      "        my_list.append(elem)\n",
      "        new_size = sys.getsizeof(my_list)\n",
      "        if new_size - old_size > int_size:\n",
      "            steps += 1\n",
      "        old_size = new_size\n",
      "    return steps\n",
      "\n",
      "\n",
      "if __name__ == '__main__':\n",
      "    print 'Using sys.getsizeof:'\n",
      "    for size in [10, 100, 1000, 10000, int(1e5), int(1e6), int(1e7)]:\n",
      "        print '%10d: %3d' % (size, list_steps(size))\n",
      "    print 'Using pympler.asizeof.flatsize:'\n",
      "    for size in [10, 100, 1000, 10000, int(1e5), int(1e6), int(1e7)]:\n",
      "        print '%10d: %3d' % (size, list_steps(size, flatsize))\n"
     ],
     "language": "python",
     "metadata": {},
     "outputs": []
    },
    {
     "cell_type": "code",
     "collapsed": false,
     "input": [
      "!python optimizing/measuring/list_alloc_steps.py"
     ],
     "language": "python",
     "metadata": {},
     "outputs": [
      {
       "output_type": "stream",
       "stream": "stdout",
       "text": [
        "Using sys.getsizeof:\r\n",
        "        10:   3\r\n",
        "       100:  10\r\n",
        "      1000:  27\r\n",
        "     10000:  46\r\n"
       ]
      },
      {
       "output_type": "stream",
       "stream": "stdout",
       "text": [
        "    100000:  65\r\n"
       ]
      },
      {
       "output_type": "stream",
       "stream": "stdout",
       "text": [
        "   1000000:  85\r\n"
       ]
      },
      {
       "output_type": "stream",
       "stream": "stdout",
       "text": [
        "  10000000: 104\r\n",
        "Using pympler.asizeof.flatsize:\r\n",
        "        10:   3\r\n",
        "       100:  10\r\n",
        "      1000:  27\r\n",
        "     10000:  46\r\n"
       ]
      },
      {
       "output_type": "stream",
       "stream": "stdout",
       "text": [
        "    100000:  65\r\n"
       ]
      },
      {
       "output_type": "stream",
       "stream": "stdout",
       "text": [
        "   1000000:  85\r\n"
       ]
      },
      {
       "output_type": "stream",
       "stream": "stdout",
       "text": [
        "  10000000: 104\r\n"
       ]
      }
     ],
     "prompt_number": 103
    },
    {
     "cell_type": "markdown",
     "metadata": {},
     "source": [
      "There's a line memory profiler, look in the handout."
     ]
    },
    {
     "cell_type": "code",
     "collapsed": false,
     "input": [],
     "language": "python",
     "metadata": {},
     "outputs": []
    }
   ],
   "metadata": {}
  }
 ]
}