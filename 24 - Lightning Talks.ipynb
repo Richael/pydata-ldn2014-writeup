{
 "metadata": {
  "name": ""
 },
 "nbformat": 3,
 "nbformat_minor": 0,
 "worksheets": [
  {
   "cells": [
    {
     "cell_type": "markdown",
     "metadata": {},
     "source": [
      "- Code tricks and Python hacks\n",
      "    http://seriously.dontusethiscode.com\n",
      "- If you're a researcher and care about code quality, or want a better career path\n",
      "    - http://www.rse.ac.uk\n",
      "- Transluscent - RShiny but for Python\n",
      "    - JavaScript to Python websocket bridge.\n",
      "    "
     ]
    },
    {
     "cell_type": "code",
     "collapsed": false,
     "input": [],
     "language": "python",
     "metadata": {},
     "outputs": []
    }
   ],
   "metadata": {}
  }
 ]
}